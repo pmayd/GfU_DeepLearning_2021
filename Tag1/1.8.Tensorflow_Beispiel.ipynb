{
 "cells": [
  {
   "cell_type": "markdown",
   "metadata": {},
   "source": [
    "# Kurze Einführung in Tensorflow"
   ]
  },
  {
   "cell_type": "code",
   "execution_count": 2,
   "metadata": {},
   "outputs": [],
   "source": [
    "import tensorflow as tf"
   ]
  },
  {
   "cell_type": "code",
   "execution_count": 3,
   "metadata": {},
   "outputs": [
    {
     "name": "stdout",
     "output_type": "stream",
     "text": [
      "2.4.1\n"
     ]
    }
   ],
   "source": [
    "print(tf.__version__)"
   ]
  },
  {
   "cell_type": "code",
   "execution_count": 4,
   "metadata": {},
   "outputs": [],
   "source": [
    "# Initialisieren mit Einern\n",
    "x = tf.ones(shape=(2,1))"
   ]
  },
  {
   "cell_type": "code",
   "execution_count": 5,
   "metadata": {},
   "outputs": [
    {
     "data": {
      "text/plain": [
       "<tf.Tensor: shape=(2, 1), dtype=float32, numpy=\n",
       "array([[1.],\n",
       "       [1.]], dtype=float32)>"
      ]
     },
     "execution_count": 5,
     "metadata": {},
     "output_type": "execute_result"
    }
   ],
   "source": [
    "x"
   ]
  },
  {
   "cell_type": "code",
   "execution_count": 6,
   "metadata": {},
   "outputs": [],
   "source": [
    "# Initialisieren mit Nullen\n",
    "x = tf.zeros(shape=(2,1))"
   ]
  },
  {
   "cell_type": "code",
   "execution_count": 7,
   "metadata": {},
   "outputs": [
    {
     "name": "stdout",
     "output_type": "stream",
     "text": [
      "tf.Tensor(\n",
      "[[0.]\n",
      " [0.]], shape=(2, 1), dtype=float32)\n"
     ]
    }
   ],
   "source": [
    "print(x)"
   ]
  },
  {
   "cell_type": "code",
   "execution_count": 8,
   "metadata": {},
   "outputs": [],
   "source": [
    "# Initialisieren mit gaußverteilten Zufallszahlen\n",
    "x = tf.random.normal(shape=(3,1),mean=0.,stddev=1.0)"
   ]
  },
  {
   "cell_type": "code",
   "execution_count": 9,
   "metadata": {},
   "outputs": [
    {
     "name": "stdout",
     "output_type": "stream",
     "text": [
      "[[-0.358763278]\n",
      " [-0.998625219]\n",
      " [1.67982483]]\n"
     ]
    }
   ],
   "source": [
    "tf.print(x)"
   ]
  },
  {
   "cell_type": "code",
   "execution_count": 10,
   "metadata": {},
   "outputs": [],
   "source": [
    "x?"
   ]
  },
  {
   "cell_type": "code",
   "execution_count": 11,
   "metadata": {},
   "outputs": [],
   "source": [
    "# Grundrechenarten\n",
    "a = tf.ones((2, 2)) \n",
    "b = tf.square(a)\n",
    "c = tf.sqrt(a) \n",
    "d = b + c\n",
    "#e = tf.matmul(a, b) # normale matrix multiplication\n",
    "e = a@b # fancy mat mul\n",
    "e *= d # elementwise"
   ]
  },
  {
   "cell_type": "code",
   "execution_count": 12,
   "metadata": {},
   "outputs": [],
   "source": [
    "# Assignment geht in Numpy\n",
    "import numpy as np\n",
    "x = np.ones(shape=(2,2))\n",
    "x[0,0] = 0."
   ]
  },
  {
   "cell_type": "code",
   "execution_count": 13,
   "metadata": {},
   "outputs": [
    {
     "ename": "TypeError",
     "evalue": "'tensorflow.python.framework.ops.EagerTensor' object does not support item assignment",
     "output_type": "error",
     "traceback": [
      "\u001b[0;31m---------------------------------------------------------------------------\u001b[0m",
      "\u001b[0;31mTypeError\u001b[0m                                 Traceback (most recent call last)",
      "\u001b[0;32m<ipython-input-13-c243403c7c96>\u001b[0m in \u001b[0;36m<module>\u001b[0;34m\u001b[0m\n\u001b[1;32m      2\u001b[0m \u001b[0;31m# Wie in Mathe - wenn x = 1 dann kann nicht x = 3 sein. Neu definieren geht (wie oben), aber kein Assignment\u001b[0m\u001b[0;34m\u001b[0m\u001b[0;34m\u001b[0m\u001b[0;34m\u001b[0m\u001b[0m\n\u001b[1;32m      3\u001b[0m \u001b[0mx\u001b[0m \u001b[0;34m=\u001b[0m \u001b[0mtf\u001b[0m\u001b[0;34m.\u001b[0m\u001b[0mones\u001b[0m\u001b[0;34m(\u001b[0m\u001b[0mshape\u001b[0m\u001b[0;34m=\u001b[0m\u001b[0;34m(\u001b[0m\u001b[0;36m2\u001b[0m\u001b[0;34m,\u001b[0m\u001b[0;36m2\u001b[0m\u001b[0;34m)\u001b[0m\u001b[0;34m)\u001b[0m\u001b[0;34m\u001b[0m\u001b[0;34m\u001b[0m\u001b[0m\n\u001b[0;32m----> 4\u001b[0;31m \u001b[0mx\u001b[0m\u001b[0;34m[\u001b[0m\u001b[0;36m0\u001b[0m\u001b[0;34m,\u001b[0m\u001b[0;36m0\u001b[0m\u001b[0;34m]\u001b[0m \u001b[0;34m=\u001b[0m \u001b[0;36m0.\u001b[0m\u001b[0;34m\u001b[0m\u001b[0;34m\u001b[0m\u001b[0m\n\u001b[0m",
      "\u001b[0;31mTypeError\u001b[0m: 'tensorflow.python.framework.ops.EagerTensor' object does not support item assignment"
     ]
    }
   ],
   "source": [
    "# Aber nicht in Tensorflow - diese Tensoren sind Konstanten\n",
    "# Wie in Mathe - wenn x = 1 dann kann nicht x = 3 sein. Neu definieren geht (wie oben), aber kein Assignment\n",
    "x = tf.ones(shape=(2,2))\n",
    "x[0,0] = 0."
   ]
  },
  {
   "cell_type": "code",
   "execution_count": 17,
   "metadata": {},
   "outputs": [
    {
     "name": "stdout",
     "output_type": "stream",
     "text": [
      "<tf.Variable 'Variable:0' shape=(3, 1) dtype=float32, numpy=\n",
      "array([[-2.6510801],\n",
      "       [-1.1280348],\n",
      "       [ 1.0677115]], dtype=float32)>\n"
     ]
    }
   ],
   "source": [
    "# Um Tensoren ändern zu können, müssen wir Variablen definieren\n",
    "v = tf.Variable(initial_value=tf.random.normal(shape=(3,1)))\n",
    "print(v)"
   ]
  },
  {
   "cell_type": "code",
   "execution_count": 18,
   "metadata": {},
   "outputs": [
    {
     "data": {
      "text/plain": [
       "<tf.Tensor: shape=(3, 1), dtype=float32, numpy=\n",
       "array([[-1.6510801 ],\n",
       "       [-0.12803483],\n",
       "       [ 2.0677114 ]], dtype=float32)>"
      ]
     },
     "execution_count": 18,
     "metadata": {},
     "output_type": "execute_result"
    }
   ],
   "source": [
    "vv = v+np.ones(shape=(3,1))\n",
    "vv"
   ]
  },
  {
   "cell_type": "code",
   "execution_count": 19,
   "metadata": {},
   "outputs": [
    {
     "name": "stdout",
     "output_type": "stream",
     "text": [
      "tf.Tensor(\n",
      "[[-1.6510801 ]\n",
      " [-0.12803483]\n",
      " [ 2.0677114 ]], shape=(3, 1), dtype=float32)\n"
     ]
    }
   ],
   "source": [
    "print(vv)"
   ]
  },
  {
   "cell_type": "code",
   "execution_count": 20,
   "metadata": {},
   "outputs": [
    {
     "data": {
      "text/plain": [
       "<tf.Variable 'UnreadVariable' shape=(3, 1) dtype=float32, numpy=\n",
       "array([[1.],\n",
       "       [1.],\n",
       "       [1.]], dtype=float32)>"
      ]
     },
     "execution_count": 20,
     "metadata": {},
     "output_type": "execute_result"
    }
   ],
   "source": [
    "# Jetzt kann man assignen, auch über .assign:\n",
    "v.assign(tf.ones((3, 1)))"
   ]
  },
  {
   "cell_type": "code",
   "execution_count": 21,
   "metadata": {},
   "outputs": [
    {
     "data": {
      "text/plain": [
       "<tf.Variable 'UnreadVariable' shape=(3, 1) dtype=float32, numpy=\n",
       "array([[2.],\n",
       "       [2.],\n",
       "       [2.]], dtype=float32)>"
      ]
     },
     "execution_count": 21,
     "metadata": {},
     "output_type": "execute_result"
    }
   ],
   "source": [
    "# Etwas dazu addieren ...\n",
    "v.assign_add(tf.ones((3, 1)))"
   ]
  },
  {
   "cell_type": "code",
   "execution_count": 22,
   "metadata": {},
   "outputs": [],
   "source": [
    "v = tf.zeros((3,1))  # Vorsicht: Jetzt änderst Du v in eine Konstante!"
   ]
  },
  {
   "cell_type": "code",
   "execution_count": 23,
   "metadata": {},
   "outputs": [
    {
     "ename": "AttributeError",
     "evalue": "'tensorflow.python.framework.ops.EagerTensor' object has no attribute 'assign_add'",
     "output_type": "error",
     "traceback": [
      "\u001b[0;31m---------------------------------------------------------------------------\u001b[0m",
      "\u001b[0;31mAttributeError\u001b[0m                            Traceback (most recent call last)",
      "\u001b[0;32m<ipython-input-23-cb5e80de0cd4>\u001b[0m in \u001b[0;36m<module>\u001b[0;34m\u001b[0m\n\u001b[0;32m----> 1\u001b[0;31m \u001b[0mv\u001b[0m\u001b[0;34m.\u001b[0m\u001b[0massign_add\u001b[0m\u001b[0;34m(\u001b[0m\u001b[0mtf\u001b[0m\u001b[0;34m.\u001b[0m\u001b[0mones\u001b[0m\u001b[0;34m(\u001b[0m\u001b[0;34m(\u001b[0m\u001b[0;36m3\u001b[0m\u001b[0;34m,\u001b[0m \u001b[0;36m1\u001b[0m\u001b[0;34m)\u001b[0m\u001b[0;34m)\u001b[0m\u001b[0;34m)\u001b[0m\u001b[0;34m\u001b[0m\u001b[0;34m\u001b[0m\u001b[0m\n\u001b[0m",
      "\u001b[0;31mAttributeError\u001b[0m: 'tensorflow.python.framework.ops.EagerTensor' object has no attribute 'assign_add'"
     ]
    }
   ],
   "source": [
    "v.assign_add(tf.ones((3, 1)))"
   ]
  },
  {
   "cell_type": "code",
   "execution_count": null,
   "metadata": {},
   "outputs": [],
   "source": []
  },
  {
   "cell_type": "markdown",
   "metadata": {},
   "source": [
    "## Berechnung von Gradienten in Tensorflow\n",
    "\n",
    "Mithilfe der tf.GradientTape API lässt sich in Tensorflow automatisch differenzieren, d.h. Ableitungen verschiedener Rechenoperationen bzgl. aller variabler Inputs lassen sich berechnen. tf.GradientTape zeichnet die verschiedenen Operationen innerhalb des Kontextes auf und ermöglicht so die Berechnung der Ableitung mithilfe von \"reverse mode autodiff\" (https://en.wikipedia.org/wiki/Automatic_differentiation, https://arxiv.org/pdf/1811.05031.pdf)."
   ]
  },
  {
   "cell_type": "code",
   "execution_count": 24,
   "metadata": {},
   "outputs": [],
   "source": [
    "# Gradienten berechnen: gradients = tape.gradient(loss, weights)\n",
    "# Innerhalb des \"Gradient Tape\"-Scope werden Operationen aufgezeichnet, falls ein Input \"beobachtet\" wird\n",
    "# tf.Variable werden immer beobachtet, weil der Sinn und Zweck von tf ja diese Gradientenberechnung ist.\n",
    "# Die Gradienten der \"aufgezeichneten\" Operationen können automatisch berechnet werden.\n",
    "\n",
    "input_var = tf.Variable(initial_value=3.)\n",
    "\n",
    "\n",
    "with tf.GradientTape() as tape:     # Der Gradient Tape wird gestartet\n",
    "    result = tf.square(input_var)   # Result wird aufgezeichnet\n",
    "    \n",
    "gradient = tape.gradient(result, input_var) # Wir können den Gradienten von result bezüglich input_var berechnen\n"
   ]
  },
  {
   "cell_type": "code",
   "execution_count": 25,
   "metadata": {},
   "outputs": [
    {
     "data": {
      "text/plain": [
       "<tf.Tensor: shape=(), dtype=float32, numpy=6.0>"
      ]
     },
     "execution_count": 25,
     "metadata": {},
     "output_type": "execute_result"
    }
   ],
   "source": [
    "gradient  # x^2 abgeleitet ist 2x an der Stelle 3 = 6"
   ]
  },
  {
   "cell_type": "markdown",
   "metadata": {},
   "source": [
    "Auch tensorwertige Ableitungen lassen sich so berechnen"
   ]
  },
  {
   "cell_type": "code",
   "execution_count": 26,
   "metadata": {},
   "outputs": [
    {
     "name": "stdout",
     "output_type": "stream",
     "text": [
      "Gradient: \n",
      " [[ 1.8639678  5.870421 ]\n",
      " [ 3.7279356 11.740842 ]\n",
      " [ 5.591903  17.611263 ]]\n"
     ]
    }
   ],
   "source": [
    "w = tf.Variable(tf.random.normal((3, 2)), name='w')\n",
    "b = tf.Variable(tf.zeros(2, dtype=tf.float32), name='b')\n",
    "x = [[1., 2., 3.]]\n",
    "\n",
    "with tf.GradientTape() as tape:\n",
    "    y = x@w + b\n",
    "    loss = tf.reduce_mean(y**2)\n",
    "    \n",
    "grad = tape.gradient(loss, w)  \n",
    "print(\"Gradient: \\n\", grad.numpy())"
   ]
  },
  {
   "cell_type": "code",
   "execution_count": 29,
   "metadata": {},
   "outputs": [
    {
     "name": "stdout",
     "output_type": "stream",
     "text": [
      "Ableitung: -1.5\n"
     ]
    },
    {
     "data": {
      "image/png": "[encoded data removed]",
      "text/plain": [
       "<Figure size 576x288 with 1 Axes>"
      ]
     },
     "metadata": {
      "needs_background": "light"
     },
     "output_type": "display_data"
    }
   ],
   "source": [
    "# So lässt sich einfach die Ableitung einer Funktion Berechnen\n",
    "import matplotlib.pyplot as plt\n",
    "x = tf.Variable(-0.75)\n",
    "with tf.GradientTape() as tape:\n",
    "    #tape.watch(x)\n",
    "    y = x * x\n",
    "g = tape.gradient(y, x) \n",
    "g.numpy()\n",
    "print('Ableitung:', g.numpy())\n",
    "\n",
    "plt.figure(figsize=(8, 4))\n",
    "plt.grid(True)\n",
    "x0 = np.linspace(-1,1,20000)\n",
    "plt.plot(x0, x0*x0, label='f(x)=x^2')\n",
    "plt.plot([x-0.2, x+0.2], x*x + g.numpy()*np.array([-0.2, +0.2]), label='Ableitung in x = 0.75', color='r')\n",
    "plt.xlabel('x', fontsize=20)\n",
    "plt.ylabel('y', fontsize=20)\n",
    "plt.legend(fontsize=20)\n",
    "plt.show()"
   ]
  },
  {
   "cell_type": "code",
   "execution_count": 31,
   "metadata": {},
   "outputs": [
    {
     "name": "stdout",
     "output_type": "stream",
     "text": [
      "Stelle x: -1.0 Ableitung von x^2: -2.0\n",
      "Stelle x: -0.6 Ableitung von x^2: -1.2\n",
      "Stelle x: -0.2 Ableitung von x^2: -0.4\n",
      "Stelle x: 0.2 Ableitung von x^2: 0.4\n",
      "Stelle x: 0.6 Ableitung von x^2: 1.2\n",
      "Stelle x: 1.0 Ableitung von x^2: 2.0\n"
     ]
    }
   ],
   "source": [
    "# Ableitung an verschiedenen Stellen:\n",
    "for x0 in np.linspace(-1, 1, 6):\n",
    "    x = tf.Variable(x0)\n",
    "    with tf.GradientTape() as tape:\n",
    "        tape.watch(x)\n",
    "        y = x * x\n",
    "    g = tape.gradient(y, x) \n",
    "    print('Stelle x:',x0.round(2), 'Ableitung von x^2:', g.numpy().round(2))"
   ]
  },
  {
   "cell_type": "code",
   "execution_count": null,
   "metadata": {},
   "outputs": [],
   "source": []
  },
  {
   "cell_type": "markdown",
   "metadata": {},
   "source": [
    "# Übung\n",
    "\n",
    "* Beschleunigung berechnen für etwas, was sich mit 4.9 * time^2 vorwärts bewegt.\n",
    "* Beschleunigung ist die Ableitung der Geschwindigkeit \n",
    "* Geschwindigkeit ist die Ableitung der Vorwärtsbewegung\n"
   ]
  },
  {
   "cell_type": "markdown",
   "metadata": {},
   "source": [
    "# Übung2\n",
    "Wenn die Verzweiflung groß ist, dann macht erstmal diese einfacheren Sachen:\n",
    "* Ableitung von der Wurzelfunktion berechnen an den Punkten 1, 0, -1\n",
    "* Wo geht das schief? Geht das schief?\n",
    "* Gradienten berechnen einer Funktion mit Tensorwertigem Input z.B. shape=(2,2)\n",
    "* Vielleicht ein Dotprodukt mit sich selbst."
   ]
  },
  {
   "cell_type": "code",
   "execution_count": 47,
   "metadata": {},
   "outputs": [],
   "source": []
  },
  {
   "cell_type": "code",
   "execution_count": 48,
   "metadata": {},
   "outputs": [
    {
     "data": {
      "text/plain": [
       "<tf.Tensor: shape=(), dtype=float32, numpy=inf>"
      ]
     },
     "execution_count": 48,
     "metadata": {},
     "output_type": "execute_result"
    }
   ],
   "source": []
  },
  {
   "cell_type": "code",
   "execution_count": null,
   "metadata": {},
   "outputs": [],
   "source": []
  },
  {
   "cell_type": "code",
   "execution_count": 51,
   "metadata": {},
   "outputs": [],
   "source": []
  },
  {
   "cell_type": "code",
   "execution_count": 52,
   "metadata": {},
   "outputs": [
    {
     "data": {
      "text/plain": [
       "<tf.Tensor: shape=(2, 2), dtype=float32, numpy=\n",
       "array([[1.6954399, 4.58066  ],\n",
       "       [3.4255676, 6.310787 ]], dtype=float32)>"
      ]
     },
     "execution_count": 52,
     "metadata": {},
     "output_type": "execute_result"
    }
   ],
   "source": []
  },
  {
   "cell_type": "raw",
   "metadata": {},
   "source": []
  },
  {
   "cell_type": "code",
   "execution_count": null,
   "metadata": {},
   "outputs": [],
   "source": []
  },
  {
   "cell_type": "code",
   "execution_count": null,
   "metadata": {},
   "outputs": [],
   "source": []
  },
  {
   "cell_type": "code",
   "execution_count": 27,
   "metadata": {},
   "outputs": [],
   "source": []
  },
  {
   "cell_type": "code",
   "execution_count": 28,
   "metadata": {},
   "outputs": [
    {
     "name": "stdout",
     "output_type": "stream",
     "text": [
      "9.8\n"
     ]
    }
   ],
   "source": []
  },
  {
   "cell_type": "markdown",
   "metadata": {},
   "source": [
    "# Einen linearen Classifier mit Tensorflow bauen"
   ]
  },
  {
   "cell_type": "code",
   "execution_count": 29,
   "metadata": {},
   "outputs": [],
   "source": [
    "# Daten generieren:\n",
    "\n",
    "num_samples_per_class = 1000\n",
    "\n",
    "negative_samples = np.random.multivariate_normal(\n",
    "    mean=[0, 3], cov=[[1, 0.5],[0.5, 1]], size=num_samples_per_class) \n",
    "\n",
    "positive_samples = np.random.multivariate_normal(\n",
    "    mean=[3, 0], cov=[[1, 0.5],[0.5, 1]], size=num_samples_per_class)"
   ]
  },
  {
   "cell_type": "code",
   "execution_count": 30,
   "metadata": {},
   "outputs": [],
   "source": [
    "# Trainingsdaten: (vstack ist vertical stack, also vertikal aufeinanderstapeln --> entlang der Reihe)\n",
    "\n",
    "inputs = np.vstack((negative_samples, positive_samples)).astype(np.float32)\n",
    "targets = np.vstack((np.zeros((num_samples_per_class, 1), dtype='float32'), np.ones((num_samples_per_class, 1), dtype='float32')))"
   ]
  },
  {
   "cell_type": "code",
   "execution_count": 31,
   "metadata": {},
   "outputs": [],
   "source": [
    "inputs2 = np.concatenate([negative_samples, positive_samples],axis=0).astype(np.float32)"
   ]
  },
  {
   "cell_type": "code",
   "execution_count": 32,
   "metadata": {},
   "outputs": [
    {
     "data": {
      "text/plain": [
       "True"
      ]
     },
     "execution_count": 32,
     "metadata": {},
     "output_type": "execute_result"
    }
   ],
   "source": [
    "(inputs == inputs2).all().all()"
   ]
  },
  {
   "cell_type": "code",
   "execution_count": 33,
   "metadata": {},
   "outputs": [
    {
     "data": {
      "image/png": "[encoded data removed]",
      "text/plain": [
       "<Figure size 432x288 with 1 Axes>"
      ]
     },
     "metadata": {
      "needs_background": "light"
     },
     "output_type": "display_data"
    },
    {
     "data": {
      "text/plain": [
       "<Figure size 720x720 with 0 Axes>"
      ]
     },
     "metadata": {},
     "output_type": "display_data"
    }
   ],
   "source": [
    "# Visualisieren:\n",
    "%matplotlib inline\n",
    "import matplotlib.pyplot as plt\n",
    "plt.scatter(inputs[:, 0], inputs[:, 1], c=targets[:, 0]) \n",
    "plt.figure(figsize=(10,10))\n",
    "plt.show()"
   ]
  },
  {
   "cell_type": "code",
   "execution_count": 34,
   "metadata": {},
   "outputs": [],
   "source": [
    "# Die Variablen\n",
    "\n",
    "input_dim = 2\n",
    "output_dim = 1\n",
    "\n",
    "W = tf.Variable(initial_value=tf.random.uniform(shape=(input_dim, output_dim))) \n",
    "b = tf.Variable(initial_value=tf.zeros(shape=(output_dim,)))"
   ]
  },
  {
   "cell_type": "code",
   "execution_count": 35,
   "metadata": {},
   "outputs": [],
   "source": [
    "# Forward Pass Funktion\n",
    "def model(inputs):\n",
    "    return tf.matmul(inputs, W) + b"
   ]
  },
  {
   "cell_type": "code",
   "execution_count": 36,
   "metadata": {},
   "outputs": [],
   "source": [
    "# Loss Funktion\n",
    "def square_loss(targets, predictions): \n",
    "    per_sample_losses = tf.square(targets - predictions) \n",
    "    return tf.reduce_mean(per_sample_losses)"
   ]
  },
  {
   "cell_type": "code",
   "execution_count": 37,
   "metadata": {},
   "outputs": [],
   "source": [
    "# Trainingstep\n",
    "learning_rate = 0.1\n",
    "\n",
    "def training_step(inputs, targets): \n",
    "    \n",
    "    # Der Gradient\n",
    "    with tf.GradientTape() as tape:     \n",
    "        predictions = model(inputs) # Forward Pass\n",
    "        loss = square_loss(predictions, targets)  # Loss dieser Vorhersagen\n",
    "    grad_loss_wrt_W, grad_loss_wrt_b = tape.gradient(loss, [W, b]) \n",
    "        \n",
    "    # Der Update-Schritt - Gradient wird subtrahiert von den Weights\n",
    "    W.assign_sub(grad_loss_wrt_W * learning_rate)\n",
    "    b.assign_sub(grad_loss_wrt_b * learning_rate)\n",
    "    \n",
    "    return loss"
   ]
  },
  {
   "cell_type": "code",
   "execution_count": 38,
   "metadata": {},
   "outputs": [
    {
     "name": "stdout",
     "output_type": "stream",
     "text": [
      "Loss at step 0: 0.1227\n",
      "Loss at step 1: 0.0806\n",
      "Loss at step 2: 0.0757\n",
      "Loss at step 3: 0.0713\n",
      "Loss at step 4: 0.0673\n",
      "Loss at step 5: 0.0636\n",
      "Loss at step 6: 0.0602\n",
      "Loss at step 7: 0.0571\n",
      "Loss at step 8: 0.0543\n",
      "Loss at step 9: 0.0517\n",
      "Loss at step 10: 0.0494\n",
      "Loss at step 11: 0.0472\n",
      "Loss at step 12: 0.0452\n",
      "Loss at step 13: 0.0434\n",
      "Loss at step 14: 0.0418\n",
      "Loss at step 15: 0.0402\n",
      "Loss at step 16: 0.0389\n",
      "Loss at step 17: 0.0376\n",
      "Loss at step 18: 0.0364\n",
      "Loss at step 19: 0.0354\n"
     ]
    }
   ],
   "source": [
    "# Das Training\n",
    "for step in range(20):\n",
    "    loss = training_step(inputs, targets) \n",
    "    print('Loss at step %d: %.4f' % (step, loss))"
   ]
  },
  {
   "cell_type": "code",
   "execution_count": 39,
   "metadata": {},
   "outputs": [
    {
     "data": {
      "image/png": "[encoded data removed]",
      "text/plain": [
       "<Figure size 432x288 with 1 Axes>"
      ]
     },
     "metadata": {
      "needs_background": "light"
     },
     "output_type": "display_data"
    }
   ],
   "source": [
    "# Das Ergebnis\n",
    "predictions = model(inputs)\n",
    "plt.scatter(inputs[:, 0], inputs[:, 1], c=predictions[:, 0] > 0.5) \n",
    "plt.show()"
   ]
  },
  {
   "cell_type": "code",
   "execution_count": 40,
   "metadata": {},
   "outputs": [
    {
     "data": {
      "image/png": "[encoded data removed]",
      "text/plain": [
       "<Figure size 432x288 with 1 Axes>"
      ]
     },
     "metadata": {
      "needs_background": "light"
     },
     "output_type": "display_data"
    }
   ],
   "source": [
    "x = np.linspace(-1, 4, 100)  # gleichmäßig gesampelte x-Werte \n",
    "y = - W[0] / W[1] * x + (0.5 - b) / W[1]  # y-Werte \n",
    "plt.plot(x, y, '-r')\n",
    "plt.scatter(inputs[:, 0], inputs[:, 1], c=predictions[:, 0] > 0.5)\n",
    "plt.show()"
   ]
  },
  {
   "cell_type": "code",
   "execution_count": 41,
   "metadata": {},
   "outputs": [
    {
     "data": {
      "text/plain": [
       "<tf.Variable 'Variable:0' shape=(2, 1) dtype=float32, numpy=\n",
       "array([[ 0.19983366],\n",
       "       [-0.09720696]], dtype=float32)>"
      ]
     },
     "execution_count": 41,
     "metadata": {},
     "output_type": "execute_result"
    }
   ],
   "source": [
    "W"
   ]
  },
  {
   "cell_type": "markdown",
   "metadata": {},
   "source": [
    "# Übung:\n",
    "* Diese Klassifizierung ist ja nicht ideal\n",
    "* Versucht ein neues Modell zu trainieren, dass ein Testset besser aufteilt\n",
    "* Niedrigster Loss auf einem Testset gewinnt\n"
   ]
  },
  {
   "cell_type": "code",
   "execution_count": null,
   "metadata": {},
   "outputs": [],
   "source": []
  },
  {
   "cell_type": "code",
   "execution_count": null,
   "metadata": {},
   "outputs": [],
   "source": []
  },
  {
   "cell_type": "code",
   "execution_count": null,
   "metadata": {},
   "outputs": [],
   "source": []
  },
  {
   "cell_type": "code",
   "execution_count": null,
   "metadata": {},
   "outputs": [],
   "source": []
  },
  {
   "cell_type": "code",
   "execution_count": null,
   "metadata": {},
   "outputs": [],
   "source": []
  },
  {
   "cell_type": "code",
   "execution_count": null,
   "metadata": {},
   "outputs": [],
   "source": []
  },
  {
   "cell_type": "code",
   "execution_count": null,
   "metadata": {},
   "outputs": [],
   "source": []
  },
  {
   "cell_type": "code",
   "execution_count": null,
   "metadata": {},
   "outputs": [],
   "source": []
  },
  {
   "cell_type": "code",
   "execution_count": null,
   "metadata": {},
   "outputs": [],
   "source": []
  },
  {
   "cell_type": "code",
   "execution_count": null,
   "metadata": {},
   "outputs": [],
   "source": []
  },
  {
   "cell_type": "code",
   "execution_count": null,
   "metadata": {},
   "outputs": [],
   "source": []
  },
  {
   "cell_type": "code",
   "execution_count": null,
   "metadata": {},
   "outputs": [],
   "source": []
  },
  {
   "cell_type": "code",
   "execution_count": null,
   "metadata": {},
   "outputs": [],
   "source": []
  },
  {
   "cell_type": "code",
   "execution_count": null,
   "metadata": {},
   "outputs": [],
   "source": []
  },
  {
   "cell_type": "code",
   "execution_count": null,
   "metadata": {},
   "outputs": [],
   "source": []
  },
  {
   "cell_type": "code",
   "execution_count": 103,
   "metadata": {},
   "outputs": [],
   "source": [
    "# Test-Daten generieren:\n",
    "\n",
    "num_samples_per_class = 1000\n",
    "\n",
    "negative_samples = np.random.multivariate_normal(\n",
    "    mean=[0, 3], cov=[[1, 0.5],[0.5, 1]], size=num_samples_per_class) \n",
    "\n",
    "positive_samples = np.random.multivariate_normal(\n",
    "    mean=[3, 0], cov=[[1, 0.5],[0.5, 1]], size=num_samples_per_class)\n",
    "\n",
    "test_inputs = np.vstack((negative_samples, positive_samples)).astype(np.float32)\n",
    "test_targets = np.vstack((np.zeros((num_samples_per_class, 1), dtype='float32'), np.ones((num_samples_per_class, 1), dtype='float32')))"
   ]
  },
  {
   "cell_type": "code",
   "execution_count": 104,
   "metadata": {},
   "outputs": [],
   "source": [
    "# Trainingsdaten\n",
    "\n",
    "num_samples_per_class = 100000\n",
    "\n",
    "negative_samples = np.random.multivariate_normal(\n",
    "    mean=[0, 3], cov=[[1, 0.5],[0.5, 1]], size=num_samples_per_class) \n",
    "\n",
    "positive_samples = np.random.multivariate_normal(\n",
    "    mean=[3, 0], cov=[[1, 0.5],[0.5, 1]], size=num_samples_per_class)\n",
    "\n",
    "train_inputs = np.vstack((negative_samples, positive_samples)).astype(np.float32)\n",
    "train_targets = np.vstack((np.zeros((num_samples_per_class, 1), dtype='float32'), np.ones((num_samples_per_class, 1), dtype='float32')))"
   ]
  },
  {
   "cell_type": "code",
   "execution_count": 105,
   "metadata": {},
   "outputs": [
    {
     "name": "stdout",
     "output_type": "stream",
     "text": [
      "Loss at step 0: 0.0488\n",
      "Loss at step 1: 0.0466\n",
      "Loss at step 2: 0.0447\n",
      "Loss at step 3: 0.0430\n",
      "Loss at step 4: 0.0414\n",
      "Loss at step 5: 0.0400\n",
      "Loss at step 6: 0.0387\n",
      "Loss at step 7: 0.0375\n",
      "Loss at step 8: 0.0364\n",
      "Loss at step 9: 0.0354\n",
      "Loss at step 10: 0.0345\n",
      "Loss at step 11: 0.0337\n",
      "Loss at step 12: 0.0329\n",
      "Loss at step 13: 0.0322\n",
      "Loss at step 14: 0.0316\n",
      "Loss at step 15: 0.0310\n",
      "Loss at step 16: 0.0305\n",
      "Loss at step 17: 0.0300\n",
      "Loss at step 18: 0.0296\n",
      "Loss at step 19: 0.0292\n",
      "Loss at step 20: 0.0288\n",
      "Loss at step 21: 0.0285\n",
      "Loss at step 22: 0.0282\n",
      "Loss at step 23: 0.0279\n",
      "Loss at step 24: 0.0276\n",
      "Loss at step 25: 0.0274\n",
      "Loss at step 26: 0.0272\n",
      "Loss at step 27: 0.0270\n",
      "Loss at step 28: 0.0268\n",
      "Loss at step 29: 0.0267\n",
      "Loss at step 30: 0.0265\n",
      "Loss at step 31: 0.0264\n",
      "Loss at step 32: 0.0262\n",
      "Loss at step 33: 0.0261\n",
      "Loss at step 34: 0.0260\n",
      "Loss at step 35: 0.0259\n",
      "Loss at step 36: 0.0258\n",
      "Loss at step 37: 0.0258\n",
      "Loss at step 38: 0.0257\n",
      "Loss at step 39: 0.0256\n",
      "Loss at step 40: 0.0256\n",
      "Loss at step 41: 0.0255\n",
      "Loss at step 42: 0.0255\n",
      "Loss at step 43: 0.0254\n",
      "Loss at step 44: 0.0254\n",
      "Loss at step 45: 0.0253\n",
      "Loss at step 46: 0.0253\n",
      "Loss at step 47: 0.0253\n",
      "Loss at step 48: 0.0252\n",
      "Loss at step 49: 0.0252\n",
      "Loss at step 50: 0.0252\n",
      "Loss at step 51: 0.0252\n",
      "Loss at step 52: 0.0252\n",
      "Loss at step 53: 0.0251\n",
      "Loss at step 54: 0.0251\n",
      "Loss at step 55: 0.0251\n",
      "Loss at step 56: 0.0251\n",
      "Loss at step 57: 0.0251\n",
      "Loss at step 58: 0.0251\n",
      "Loss at step 59: 0.0251\n",
      "Loss at step 60: 0.0250\n",
      "Loss at step 61: 0.0250\n",
      "Loss at step 62: 0.0250\n",
      "Loss at step 63: 0.0250\n",
      "Loss at step 64: 0.0250\n",
      "Loss at step 65: 0.0250\n",
      "Loss at step 66: 0.0250\n",
      "Loss at step 67: 0.0250\n",
      "Loss at step 68: 0.0250\n",
      "Loss at step 69: 0.0250\n",
      "Loss at step 70: 0.0250\n",
      "Loss at step 71: 0.0250\n",
      "Loss at step 72: 0.0250\n",
      "Loss at step 73: 0.0250\n",
      "Loss at step 74: 0.0250\n",
      "Loss at step 75: 0.0250\n",
      "Loss at step 76: 0.0250\n",
      "Loss at step 77: 0.0250\n",
      "Loss at step 78: 0.0250\n",
      "Loss at step 79: 0.0250\n",
      "Loss at step 80: 0.0250\n",
      "Loss at step 81: 0.0250\n",
      "Loss at step 82: 0.0250\n",
      "Loss at step 83: 0.0250\n",
      "Loss at step 84: 0.0250\n",
      "Loss at step 85: 0.0250\n",
      "Loss at step 86: 0.0250\n",
      "Loss at step 87: 0.0250\n",
      "Loss at step 88: 0.0250\n",
      "Loss at step 89: 0.0249\n",
      "Loss at step 90: 0.0249\n",
      "Loss at step 91: 0.0249\n",
      "Loss at step 92: 0.0249\n",
      "Loss at step 93: 0.0249\n",
      "Loss at step 94: 0.0249\n",
      "Loss at step 95: 0.0249\n",
      "Loss at step 96: 0.0249\n",
      "Loss at step 97: 0.0249\n",
      "Loss at step 98: 0.0249\n",
      "Loss at step 99: 0.0249\n"
     ]
    }
   ],
   "source": [
    "# Das Training\n",
    "for step in range(100):\n",
    "    loss = training_step(train_inputs, train_targets) \n",
    "    print('Loss at step %d: %.4f' % (step, loss))"
   ]
  },
  {
   "cell_type": "code",
   "execution_count": 106,
   "metadata": {},
   "outputs": [],
   "source": [
    "predictions = model(test_inputs)\n",
    "loss = square_loss(test_targets, predictions)"
   ]
  },
  {
   "cell_type": "code",
   "execution_count": 107,
   "metadata": {},
   "outputs": [
    {
     "data": {
      "text/plain": [
       "<tf.Tensor: shape=(), dtype=float32, numpy=0.025204225>"
      ]
     },
     "execution_count": 107,
     "metadata": {},
     "output_type": "execute_result"
    }
   ],
   "source": [
    "loss"
   ]
  },
  {
   "cell_type": "code",
   "execution_count": 108,
   "metadata": {},
   "outputs": [
    {
     "data": {
      "image/png": "[encoded data removed]",
      "text/plain": [
       "<Figure size 432x288 with 1 Axes>"
      ]
     },
     "metadata": {
      "needs_background": "light"
     },
     "output_type": "display_data"
    }
   ],
   "source": [
    "x = np.linspace(-1, 4, 100)  # gleichmäßig gesampelte x-Werte \n",
    "y = - W[0] / W[1] * x + (0.5 - b) / W[1]  # y-Werte \n",
    "\n",
    "plt.plot(x, y, '-r')\n",
    "plt.scatter(test_inputs[:, 0], test_inputs[:, 1], c=predictions[:, 0] > 0.5)\n",
    "plt.show()"
   ]
  },
  {
   "cell_type": "code",
   "execution_count": 42,
   "metadata": {},
   "outputs": [
    {
     "data": {
      "text/plain": [
       "<tf.Variable 'Variable:0' shape=(2, 1) dtype=float32, numpy=\n",
       "array([[ 0.19983366],\n",
       "       [-0.09720696]], dtype=float32)>"
      ]
     },
     "execution_count": 42,
     "metadata": {},
     "output_type": "execute_result"
    }
   ],
   "source": [
    "W"
   ]
  },
  {
   "cell_type": "code",
   "execution_count": null,
   "metadata": {},
   "outputs": [],
   "source": []
  }
 ],
 "metadata": {
  "kernelspec": {
   "display_name": "Python 3",
   "language": "python",
   "name": "python3"
  },
  "language_info": {
   "codemirror_mode": {
    "name": "ipython",
    "version": 3
   },
   "file_extension": ".py",
   "mimetype": "text/x-python",
   "name": "python",
   "nbconvert_exporter": "python",
   "pygments_lexer": "ipython3",
   "version": "3.8.5"
  }
 },
 "nbformat": 4,
 "nbformat_minor": 2
}
