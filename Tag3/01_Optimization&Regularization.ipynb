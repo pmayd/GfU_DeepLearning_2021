{
 "cells": [
  {
   "cell_type": "code",
   "execution_count": 1,
   "metadata": {},
   "outputs": [],
   "source": [
    "import numpy as np\n",
    "import pandas as pd\n",
    "import matplotlib.pyplot as plt\n",
    "import tensorflow as tf\n",
    "import keras"
   ]
  },
  {
   "cell_type": "markdown",
   "metadata": {},
   "source": [
    "## Weight Initialization"
   ]
  },
  {
   "cell_type": "code",
   "execution_count": 2,
   "metadata": {},
   "outputs": [
    {
     "data": {
      "text/plain": [
       "['Constant',\n",
       " 'GlorotNormal',\n",
       " 'GlorotUniform',\n",
       " 'HeNormal',\n",
       " 'HeUniform',\n",
       " 'Identity',\n",
       " 'Initializer',\n",
       " 'LecunNormal',\n",
       " 'LecunUniform',\n",
       " 'Ones',\n",
       " 'Orthogonal',\n",
       " 'RandomNormal',\n",
       " 'RandomUniform',\n",
       " 'TruncatedNormal',\n",
       " 'VarianceScaling',\n",
       " 'Zeros',\n",
       " 'constant',\n",
       " 'deserialize',\n",
       " 'get',\n",
       " 'glorot_normal',\n",
       " 'glorot_uniform',\n",
       " 'he_normal',\n",
       " 'he_uniform',\n",
       " 'identity',\n",
       " 'lecun_normal',\n",
       " 'lecun_uniform',\n",
       " 'ones',\n",
       " 'orthogonal',\n",
       " 'random_normal',\n",
       " 'random_uniform',\n",
       " 'serialize',\n",
       " 'truncated_normal',\n",
       " 'variance_scaling',\n",
       " 'zeros']"
      ]
     },
     "execution_count": 2,
     "metadata": {},
     "output_type": "execute_result"
    }
   ],
   "source": [
    "[name for name in dir(keras.initializers) if not name.startswith(\"_\")]"
   ]
  },
  {
   "cell_type": "code",
   "execution_count": 3,
   "metadata": {},
   "outputs": [
    {
     "data": {
      "text/plain": [
       "<tensorflow.python.keras.layers.core.Dense at 0x7f1b94677bb0>"
      ]
     },
     "execution_count": 3,
     "metadata": {},
     "output_type": "execute_result"
    }
   ],
   "source": [
    "# How to use weight initialization:\n",
    "keras.layers.Dense(10, activation=\"relu\", kernel_initializer=\"he_normal\")"
   ]
  },
  {
   "cell_type": "code",
   "execution_count": 4,
   "metadata": {},
   "outputs": [
    {
     "data": {
      "text/plain": [
       "<tensorflow.python.keras.layers.core.Dense at 0x7f1b93f97640>"
      ]
     },
     "execution_count": 4,
     "metadata": {},
     "output_type": "execute_result"
    }
   ],
   "source": [
    "# custom weight initialization\n",
    "init = keras.initializers.VarianceScaling(\n",
    "    scale=2., \n",
    "    mode='fan_avg',                                 \n",
    "    distribution='uniform'\n",
    ")\n",
    "keras.layers.Dense(10, activation=\"relu\", kernel_initializer=init)"
   ]
  },
  {
   "cell_type": "markdown",
   "metadata": {},
   "source": [
    "## Gradient Clipping"
   ]
  },
  {
   "cell_type": "code",
   "execution_count": 5,
   "metadata": {},
   "outputs": [],
   "source": [
    "optimizer = keras.optimizers.SGD(clipvalue=1.0)"
   ]
  },
  {
   "cell_type": "code",
   "execution_count": 6,
   "metadata": {},
   "outputs": [],
   "source": [
    "optimizer = keras.optimizers.SGD(clipnorm=1.0)"
   ]
  },
  {
   "cell_type": "markdown",
   "metadata": {},
   "source": [
    "## Optimizers"
   ]
  },
  {
   "cell_type": "markdown",
   "metadata": {},
   "source": [
    "### Momentum optimization"
   ]
  },
  {
   "cell_type": "code",
   "execution_count": 7,
   "metadata": {},
   "outputs": [],
   "source": [
    "optimizer = keras.optimizers.SGD(lr=0.001, momentum=0.9)"
   ]
  },
  {
   "cell_type": "markdown",
   "metadata": {},
   "source": [
    "### Nesterov Accelerated Gradient"
   ]
  },
  {
   "cell_type": "code",
   "execution_count": 8,
   "metadata": {},
   "outputs": [],
   "source": [
    "optimizer = keras.optimizers.SGD(lr=0.001, momentum=0.9, nesterov=True)"
   ]
  },
  {
   "cell_type": "markdown",
   "metadata": {},
   "source": [
    "### AdaGrad"
   ]
  },
  {
   "cell_type": "code",
   "execution_count": 9,
   "metadata": {},
   "outputs": [],
   "source": [
    "optimizer = keras.optimizers.Adagrad(lr=0.001)"
   ]
  },
  {
   "cell_type": "markdown",
   "metadata": {},
   "source": [
    "### RMSProp"
   ]
  },
  {
   "cell_type": "code",
   "execution_count": 10,
   "metadata": {},
   "outputs": [],
   "source": [
    "optimizer = keras.optimizers.RMSprop(lr=0.001, rho=0.9)"
   ]
  },
  {
   "cell_type": "markdown",
   "metadata": {},
   "source": [
    "### Adam"
   ]
  },
  {
   "cell_type": "code",
   "execution_count": 11,
   "metadata": {},
   "outputs": [],
   "source": [
    "optimizer = keras.optimizers.Adam(lr=0.001, beta_1=0.9, beta_2=0.999)"
   ]
  },
  {
   "cell_type": "code",
   "execution_count": null,
   "metadata": {},
   "outputs": [],
   "source": []
  },
  {
   "cell_type": "code",
   "execution_count": null,
   "metadata": {},
   "outputs": [],
   "source": []
  },
  {
   "cell_type": "markdown",
   "metadata": {},
   "source": [
    "## Load Data"
   ]
  },
  {
   "cell_type": "code",
   "execution_count": 12,
   "metadata": {},
   "outputs": [],
   "source": [
    "from keras.datasets import fashion_mnist \n",
    "(X_train, y_train), (X_test, y_test) = keras.datasets.fashion_mnist.load_data()\n",
    "X_train = X_train / 255.0\n",
    "X_test = X_test / 255.0\n",
    "#X_valid, X_train = X_train_full[:5000], X_train_full[5000:]\n",
    "#y_valid, y_train = y_train_full[:5000], y_train_full[5000:]"
   ]
  },
  {
   "cell_type": "code",
   "execution_count": 13,
   "metadata": {},
   "outputs": [
    {
     "data": {
      "image/png": "[encoded data removed]",
      "text/plain": [
       "<Figure size 1296x345.6 with 60 Axes>"
      ]
     },
     "metadata": {
      "needs_background": "light"
     },
     "output_type": "display_data"
    }
   ],
   "source": [
    "n_rows = 4\n",
    "n_cols = 15\n",
    "plt.figure(figsize=(n_cols * 1.2, n_rows * 1.2))\n",
    "for row in range(n_rows):\n",
    "    for col in range(n_cols):\n",
    "        index = n_cols * row + col\n",
    "        plt.subplot(n_rows, n_cols, index + 1)\n",
    "        plt.imshow(X_train[index], cmap=\"binary\", interpolation=\"nearest\")\n",
    "        plt.axis('off')\n",
    "        plt.title(y_train[index], fontsize=12)\n",
    "plt.subplots_adjust(wspace=0.2, hspace=0.5)\n"
   ]
  },
  {
   "cell_type": "code",
   "execution_count": 14,
   "metadata": {},
   "outputs": [],
   "source": [
    "pixel_means = X_train.mean(axis=0, keepdims=True)\n",
    "pixel_stds = X_train.std(axis=0, keepdims=True)\n",
    "X_train_scaled = (X_train - pixel_means) / pixel_stds\n",
    "X_test_scaled = (X_test - pixel_means) / pixel_stds"
   ]
  },
  {
   "cell_type": "markdown",
   "metadata": {},
   "source": [
    "## Learning Rate Scheduling"
   ]
  },
  {
   "cell_type": "markdown",
   "metadata": {},
   "source": [
    "### Power law scheduling\n",
    "\n",
    "$ \\text{lr} = \\frac{ \\text{lr}_0 }{ \\left(1+ \\frac{\\text{steps}}{s} \\right)^c} $\n",
    "\n",
    "In Keras: $ c=1$ and $ s = \\frac{1}{\\text{decay}} $"
   ]
  },
  {
   "cell_type": "code",
   "execution_count": 15,
   "metadata": {},
   "outputs": [],
   "source": [
    "optimizer = keras.optimizers.SGD(lr=0.01, decay=1e-4)"
   ]
  },
  {
   "cell_type": "code",
   "execution_count": 16,
   "metadata": {},
   "outputs": [
    {
     "data": {
      "image/png": "[encoded data removed]",
      "text/plain": [
       "<Figure size 432x288 with 1 Axes>"
      ]
     },
     "metadata": {
      "needs_background": "light"
     },
     "output_type": "display_data"
    }
   ],
   "source": [
    "learning_rate = 0.01\n",
    "decay = 1e-4\n",
    "batch_size = 32\n",
    "len_X_train = 50000\n",
    "n_epochs=30\n",
    "n_steps_per_epoch = len_X_train // batch_size\n",
    "epochs = np.arange(n_epochs)\n",
    "lrs = learning_rate / (1 + decay * epochs * n_steps_per_epoch)\n",
    "\n",
    "plt.plot(epochs, lrs,  \"o-\")\n",
    "plt.axis([0, n_epochs - 1, 0, 0.01])\n",
    "plt.xlabel(\"Epoch\")\n",
    "plt.ylabel(\"Learning Rate\")\n",
    "plt.title(\"Power Scheduling\", fontsize=14)\n",
    "plt.grid(True)\n",
    "plt.show()"
   ]
  },
  {
   "cell_type": "code",
   "execution_count": null,
   "metadata": {},
   "outputs": [],
   "source": []
  },
  {
   "cell_type": "markdown",
   "metadata": {},
   "source": [
    "### Exponential learning rate Scheduling\n",
    "\n",
    "$ \\text{lr} = \\text{lr}_0 \\cdot 0.1^{\\text{epoch} / s}$"
   ]
  },
  {
   "cell_type": "code",
   "execution_count": 17,
   "metadata": {},
   "outputs": [],
   "source": [
    "def exponential_decay_fn(epoch):\n",
    "    return 0.01 * 0.1**(epoch / 20)"
   ]
  },
  {
   "cell_type": "code",
   "execution_count": 18,
   "metadata": {},
   "outputs": [],
   "source": [
    "def exponential_decay(lr0, s):\n",
    "    def exponential_decay_fn(epoch):\n",
    "        return lr0 * 0.1**(epoch / s)\n",
    "    return exponential_decay_fn\n",
    "\n",
    "exponential_decay_scheduler = exponential_decay(lr0=0.01, s=20)"
   ]
  },
  {
   "cell_type": "code",
   "execution_count": 19,
   "metadata": {},
   "outputs": [],
   "source": [
    "model = keras.models.Sequential([\n",
    "    keras.layers.Flatten(input_shape=[28, 28]),\n",
    "    keras.layers.Dense(50, activation=\"relu\", kernel_initializer=\"he_normal\"),\n",
    "    keras.layers.Dense(20, activation=\"relu\", kernel_initializer=\"he_normal\"),\n",
    "    keras.layers.Dense(10, activation=\"softmax\")\n",
    "])\n",
    "model.compile(loss=\"sparse_categorical_crossentropy\", optimizer=\"nadam\", metrics=[\"accuracy\"])"
   ]
  },
  {
   "cell_type": "code",
   "execution_count": 20,
   "metadata": {},
   "outputs": [
    {
     "name": "stdout",
     "output_type": "stream",
     "text": [
      "Epoch 1/20\n",
      "235/235 [==============================] - 1s 3ms/step - loss: 0.6904 - accuracy: 0.7563 - val_loss: 0.5152 - val_accuracy: 0.8033\n",
      "Epoch 2/20\n",
      "235/235 [==============================] - 0s 2ms/step - loss: 0.3616 - accuracy: 0.8685 - val_loss: 0.3968 - val_accuracy: 0.8577\n",
      "Epoch 3/20\n",
      "235/235 [==============================] - 0s 2ms/step - loss: 0.3170 - accuracy: 0.8841 - val_loss: 0.4838 - val_accuracy: 0.8355\n",
      "Epoch 4/20\n",
      "235/235 [==============================] - 0s 2ms/step - loss: 0.2976 - accuracy: 0.8908 - val_loss: 0.4753 - val_accuracy: 0.8328\n",
      "Epoch 5/20\n",
      "235/235 [==============================] - 0s 2ms/step - loss: 0.2729 - accuracy: 0.9001 - val_loss: 0.3972 - val_accuracy: 0.8671\n",
      "Epoch 6/20\n",
      "235/235 [==============================] - 0s 2ms/step - loss: 0.2525 - accuracy: 0.9056 - val_loss: 0.3939 - val_accuracy: 0.8667\n",
      "Epoch 7/20\n",
      "235/235 [==============================] - 0s 2ms/step - loss: 0.2354 - accuracy: 0.9107 - val_loss: 0.3604 - val_accuracy: 0.8795\n",
      "Epoch 8/20\n",
      "235/235 [==============================] - 0s 2ms/step - loss: 0.2180 - accuracy: 0.9197 - val_loss: 0.3621 - val_accuracy: 0.8834\n",
      "Epoch 9/20\n",
      "235/235 [==============================] - 0s 2ms/step - loss: 0.2086 - accuracy: 0.9235 - val_loss: 0.4103 - val_accuracy: 0.8708\n",
      "Epoch 10/20\n",
      "235/235 [==============================] - 0s 1ms/step - loss: 0.1927 - accuracy: 0.9278 - val_loss: 0.3854 - val_accuracy: 0.8775\n",
      "Epoch 11/20\n",
      "235/235 [==============================] - 0s 1ms/step - loss: 0.1781 - accuracy: 0.9335 - val_loss: 0.3915 - val_accuracy: 0.8801\n",
      "Epoch 12/20\n",
      "235/235 [==============================] - 0s 2ms/step - loss: 0.1774 - accuracy: 0.9331 - val_loss: 0.4160 - val_accuracy: 0.8716\n",
      "Epoch 13/20\n",
      "235/235 [==============================] - 0s 1ms/step - loss: 0.1628 - accuracy: 0.9405 - val_loss: 0.4103 - val_accuracy: 0.8835\n",
      "Epoch 14/20\n",
      "235/235 [==============================] - 0s 2ms/step - loss: 0.1553 - accuracy: 0.9431 - val_loss: 0.4195 - val_accuracy: 0.8793\n",
      "Epoch 15/20\n",
      "235/235 [==============================] - 0s 2ms/step - loss: 0.1492 - accuracy: 0.9444 - val_loss: 0.4324 - val_accuracy: 0.8816\n",
      "Epoch 16/20\n",
      "235/235 [==============================] - 0s 2ms/step - loss: 0.1372 - accuracy: 0.9488 - val_loss: 0.4268 - val_accuracy: 0.8835\n",
      "Epoch 17/20\n",
      "235/235 [==============================] - 0s 2ms/step - loss: 0.1278 - accuracy: 0.9546 - val_loss: 0.4476 - val_accuracy: 0.8811\n",
      "Epoch 18/20\n",
      "235/235 [==============================] - 0s 2ms/step - loss: 0.1260 - accuracy: 0.9545 - val_loss: 0.4471 - val_accuracy: 0.8828\n",
      "Epoch 19/20\n",
      "235/235 [==============================] - 0s 2ms/step - loss: 0.1231 - accuracy: 0.9555 - val_loss: 0.4565 - val_accuracy: 0.8813\n",
      "Epoch 20/20\n",
      "235/235 [==============================] - 0s 2ms/step - loss: 0.1172 - accuracy: 0.9576 - val_loss: 0.4692 - val_accuracy: 0.8822\n"
     ]
    }
   ],
   "source": [
    "n_epochs = 20\n",
    "\n",
    "#Learning rate scheduler\n",
    "lr_scheduler = keras.callbacks.LearningRateScheduler(exponential_decay_scheduler)\n",
    "\n",
    "history = model.fit(\n",
    "    X_train_scaled, y_train, epochs=n_epochs,\n",
    "    validation_data=(X_test_scaled, y_test),\n",
    "    batch_size=256,\n",
    "    callbacks=[lr_scheduler]\n",
    ")"
   ]
  },
  {
   "cell_type": "code",
   "execution_count": 21,
   "metadata": {},
   "outputs": [
    {
     "data": {
      "image/png": "[encoded data removed]",
      "text/plain": [
       "<Figure size 432x288 with 1 Axes>"
      ]
     },
     "metadata": {
      "needs_background": "light"
     },
     "output_type": "display_data"
    }
   ],
   "source": [
    "plt.plot(history.epoch, history.history[\"lr\"], \"o-\")\n",
    "plt.axis([0, n_epochs - 1, 0, 0.011])\n",
    "plt.xlabel(\"Epoch\")\n",
    "plt.ylabel(\"Learning Rate\")\n",
    "plt.title(\"Exponential Scheduling\", fontsize=14)\n",
    "plt.grid(True)\n",
    "plt.show()"
   ]
  },
  {
   "cell_type": "markdown",
   "metadata": {},
   "source": [
    "### Performance Scheduling"
   ]
  },
  {
   "cell_type": "code",
   "execution_count": 22,
   "metadata": {},
   "outputs": [
    {
     "name": "stdout",
     "output_type": "stream",
     "text": [
      "Epoch 1/20\n",
      "235/235 [==============================] - 1s 2ms/step - loss: 0.6760 - accuracy: 0.7715 - val_loss: 0.4353 - val_accuracy: 0.8474\n",
      "Epoch 2/20\n",
      "235/235 [==============================] - 0s 2ms/step - loss: 0.3816 - accuracy: 0.8641 - val_loss: 0.4156 - val_accuracy: 0.8502\n",
      "Epoch 3/20\n",
      "235/235 [==============================] - 0s 2ms/step - loss: 0.3484 - accuracy: 0.8755 - val_loss: 0.3884 - val_accuracy: 0.8637\n",
      "Epoch 4/20\n",
      "235/235 [==============================] - 0s 2ms/step - loss: 0.3183 - accuracy: 0.8852 - val_loss: 0.3891 - val_accuracy: 0.8632\n",
      "Epoch 5/20\n",
      "235/235 [==============================] - 0s 2ms/step - loss: 0.3002 - accuracy: 0.8916 - val_loss: 0.3631 - val_accuracy: 0.8738\n",
      "Epoch 6/20\n",
      "235/235 [==============================] - 0s 2ms/step - loss: 0.2847 - accuracy: 0.8966 - val_loss: 0.3754 - val_accuracy: 0.8679\n",
      "Epoch 7/20\n",
      "235/235 [==============================] - 0s 2ms/step - loss: 0.2774 - accuracy: 0.9000 - val_loss: 0.3593 - val_accuracy: 0.8766\n",
      "Epoch 8/20\n",
      "235/235 [==============================] - 0s 2ms/step - loss: 0.2634 - accuracy: 0.9033 - val_loss: 0.3564 - val_accuracy: 0.8778\n",
      "Epoch 9/20\n",
      "235/235 [==============================] - 0s 2ms/step - loss: 0.2489 - accuracy: 0.9087 - val_loss: 0.3849 - val_accuracy: 0.8667\n",
      "Epoch 10/20\n",
      "235/235 [==============================] - 0s 2ms/step - loss: 0.2457 - accuracy: 0.9111 - val_loss: 0.3557 - val_accuracy: 0.8751\n",
      "Epoch 11/20\n",
      "235/235 [==============================] - 0s 2ms/step - loss: 0.2271 - accuracy: 0.9174 - val_loss: 0.3616 - val_accuracy: 0.8765\n",
      "Epoch 12/20\n",
      "235/235 [==============================] - 0s 2ms/step - loss: 0.2220 - accuracy: 0.9198 - val_loss: 0.3617 - val_accuracy: 0.8805\n",
      "Epoch 13/20\n",
      "235/235 [==============================] - 0s 2ms/step - loss: 0.2162 - accuracy: 0.9215 - val_loss: 0.3640 - val_accuracy: 0.8811\n",
      "Epoch 14/20\n",
      "235/235 [==============================] - 0s 2ms/step - loss: 0.2136 - accuracy: 0.9214 - val_loss: 0.3694 - val_accuracy: 0.8782\n",
      "Epoch 15/20\n",
      "235/235 [==============================] - 0s 2ms/step - loss: 0.2023 - accuracy: 0.9248 - val_loss: 0.3647 - val_accuracy: 0.8837\n",
      "Epoch 16/20\n",
      "235/235 [==============================] - 0s 2ms/step - loss: 0.1892 - accuracy: 0.9336 - val_loss: 0.3599 - val_accuracy: 0.8815\n",
      "Epoch 17/20\n",
      "235/235 [==============================] - 0s 2ms/step - loss: 0.1743 - accuracy: 0.9386 - val_loss: 0.3609 - val_accuracy: 0.8845\n",
      "Epoch 18/20\n",
      "235/235 [==============================] - 0s 2ms/step - loss: 0.1729 - accuracy: 0.9379 - val_loss: 0.3549 - val_accuracy: 0.8868\n",
      "Epoch 19/20\n",
      "235/235 [==============================] - 0s 2ms/step - loss: 0.1674 - accuracy: 0.9409 - val_loss: 0.3697 - val_accuracy: 0.8806\n",
      "Epoch 20/20\n",
      "235/235 [==============================] - 0s 2ms/step - loss: 0.1653 - accuracy: 0.9419 - val_loss: 0.3646 - val_accuracy: 0.8845\n"
     ]
    }
   ],
   "source": [
    "# reduziere die Learning rate um einen Faktor 0.5, wenn der Validation error nach 5 Epochs nicht gefallen ist\n",
    "lr_scheduler = keras.callbacks.ReduceLROnPlateau(factor=0.5, patience=5)\n",
    "\n",
    "model = keras.models.Sequential([\n",
    "    keras.layers.Flatten(input_shape=[28, 28]),\n",
    "    keras.layers.Dense(100, activation=\"selu\", kernel_initializer=\"lecun_normal\"),\n",
    "    keras.layers.Dense(10, activation=\"softmax\")\n",
    "])\n",
    "optimizer = keras.optimizers.SGD(lr=0.02, momentum=0.9)\n",
    "model.compile(loss=\"sparse_categorical_crossentropy\", optimizer=optimizer, metrics=[\"accuracy\"])\n",
    "n_epochs = 20\n",
    "history = model.fit(X_train_scaled, y_train, epochs=n_epochs,\n",
    "                    validation_data=(X_test_scaled, y_test),\n",
    "                    batch_size=256,\n",
    "                    callbacks=[lr_scheduler])"
   ]
  },
  {
   "cell_type": "code",
   "execution_count": 23,
   "metadata": {},
   "outputs": [
    {
     "data": {
      "text/plain": [
       "<AxesSubplot:>"
      ]
     },
     "execution_count": 23,
     "metadata": {},
     "output_type": "execute_result"
    },
    {
     "data": {
      "image/png": "[encoded data removed]",
      "text/plain": [
       "<Figure size 432x288 with 1 Axes>"
      ]
     },
     "metadata": {
      "needs_background": "light"
     },
     "output_type": "display_data"
    }
   ],
   "source": [
    "df=pd.DataFrame(history.history)\n",
    "df['lr'].plot()"
   ]
  },
  {
   "cell_type": "markdown",
   "metadata": {},
   "source": [
    "## Regularization"
   ]
  },
  {
   "cell_type": "markdown",
   "metadata": {},
   "source": [
    "### L1 and L2 Regularization"
   ]
  },
  {
   "cell_type": "code",
   "execution_count": 24,
   "metadata": {},
   "outputs": [],
   "source": [
    "# L2 regularization with a factor 0.1\n",
    "layer = keras.layers.Dense(\n",
    "    100, activation=\"elu\",\n",
    "    kernel_initializer=\"he_normal\",\n",
    "    kernel_regularizer=keras.regularizers.l2(0.01)\n",
    ")\n",
    "# or l1(0.1) for L1 regularization with a factor or 0.1\n",
    "# or l1_l2(0.1, 0.01) for both L1 and L2 regularization, with factors 0.1 and 0.01 respectively"
   ]
  },
  {
   "cell_type": "markdown",
   "metadata": {},
   "source": [
    "## Dropout"
   ]
  },
  {
   "cell_type": "code",
   "execution_count": 25,
   "metadata": {},
   "outputs": [],
   "source": [
    "# dropout with probability p = 0.2\n",
    "model = keras.models.Sequential([\n",
    "    keras.layers.Flatten(input_shape=[28, 28]),\n",
    "    keras.layers.Dropout(rate=0.2),\n",
    "    keras.layers.Dense(300, activation=\"elu\", kernel_initializer=\"he_normal\"),\n",
    "    keras.layers.Dropout(rate=0.2),\n",
    "    keras.layers.Dense(100, activation=\"elu\", kernel_initializer=\"he_normal\"),\n",
    "    keras.layers.Dropout(rate=0.2),\n",
    "    keras.layers.Dense(10, activation=\"softmax\")\n",
    "])"
   ]
  },
  {
   "cell_type": "markdown",
   "metadata": {},
   "source": [
    "# Übung:\n",
    "\n",
    "* Trainiere ein neuronales Netzwerk auf dem fashion MNIST Datensatz unter Verwendung sovieler Techniken wie möglich, also\n",
    "    - L1/L2 Regularization     1e-4\n",
    "    - Dropout                  p=0.5\n",
    "    - Gewichte Initialiserung 'lecun_normal'\n",
    "    - learning rate scheduler\n",
    "    - Gradient Clipping\n",
    "    - Stochastic  Gradient Descent mit Momentum und Nesterov's Accelerated Gradient\n"
   ]
  },
  {
   "cell_type": "code",
   "execution_count": null,
   "metadata": {},
   "outputs": [],
   "source": []
  },
  {
   "cell_type": "code",
   "execution_count": null,
   "metadata": {},
   "outputs": [],
   "source": []
  },
  {
   "cell_type": "code",
   "execution_count": null,
   "metadata": {},
   "outputs": [],
   "source": []
  },
  {
   "cell_type": "code",
   "execution_count": null,
   "metadata": {},
   "outputs": [],
   "source": []
  },
  {
   "cell_type": "markdown",
   "metadata": {},
   "source": [
    "# ImDB Datensatz"
   ]
  },
  {
   "cell_type": "code",
   "execution_count": 26,
   "metadata": {},
   "outputs": [],
   "source": [
    "import keras\n",
    "from keras.models import Sequential\n",
    "from keras import layers\n",
    "import numpy as np"
   ]
  },
  {
   "cell_type": "code",
   "execution_count": 27,
   "metadata": {},
   "outputs": [
    {
     "name": "stderr",
     "output_type": "stream",
     "text": [
      "<__array_function__ internals>:5: VisibleDeprecationWarning: Creating an ndarray from ragged nested sequences (which is a list-or-tuple of lists-or-tuples-or ndarrays with different lengths or shapes) is deprecated. If you meant to do this, you must specify 'dtype=object' when creating the ndarray\n",
      "/home/mago1/.local/lib/python3.8/site-packages/tensorflow/python/keras/datasets/imdb.py:159: VisibleDeprecationWarning: Creating an ndarray from ragged nested sequences (which is a list-or-tuple of lists-or-tuples-or ndarrays with different lengths or shapes) is deprecated. If you meant to do this, you must specify 'dtype=object' when creating the ndarray\n",
      "  x_train, y_train = np.array(xs[:idx]), np.array(labels[:idx])\n",
      "/home/mago1/.local/lib/python3.8/site-packages/tensorflow/python/keras/datasets/imdb.py:160: VisibleDeprecationWarning: Creating an ndarray from ragged nested sequences (which is a list-or-tuple of lists-or-tuples-or ndarrays with different lengths or shapes) is deprecated. If you meant to do this, you must specify 'dtype=object' when creating the ndarray\n",
      "  x_test, y_test = np.array(xs[idx:]), np.array(labels[idx:])\n"
     ]
    }
   ],
   "source": [
    "from tensorflow.keras.datasets import imdb\n",
    "(train_data, train_labels), (test_data, test_labels) = imdb.load_data(num_words=10000)\n",
    "\n",
    "def vectorize_sequences(sequences, dimension=10000):\n",
    "    # Create an all-zero matrix of shape (len(sequences), dimension)\n",
    "    results = np.zeros((len(sequences), dimension))\n",
    "    for i, sequence in enumerate(sequences):\n",
    "        results[i, sequence] = 1.  # set specific indices of results[i] to 1s\n",
    "    return results\n",
    "\n",
    "# Our vectorized training data\n",
    "x_train = vectorize_sequences(train_data)\n",
    "# Our vectorized test data\n",
    "x_test = vectorize_sequences(test_data)\n",
    "# Our vectorized labels\n",
    "y_train = np.asarray(train_labels).astype('float32')\n",
    "y_test = np.asarray(test_labels).astype('float32')"
   ]
  },
  {
   "cell_type": "markdown",
   "metadata": {},
   "source": [
    "# Übung:\n",
    "\n",
    "* Trainiere drei Modelle mit 3 Layern (Epochs 20, batch_size=256)\n",
    "    * 1) Normal großes Modell [16, 16, 1]\n",
    "    * 2) Kleines Modell [4, 4, 1]\n",
    "    * 3) Großes Modell [128, 128, 1]\n",
    "    \n",
    "* Trainiere zwei Modelle mit 3 Layern [16, 16, 1] (Epochs 20, batch_size=256)\n",
    "    * L2 Regularisierung 1e-4 (nur hidden Layers)\n",
    "    * Dropout 0.5 (nur hidden Layers)\n",
    "    \n",
    "Visualisiere den Verlauf des Test Losses für die verschiedenen Parameter. Vergleiche alles mit dem Normal großen Modell. Was ändert sich und warum?"
   ]
  },
  {
   "cell_type": "code",
   "execution_count": null,
   "metadata": {},
   "outputs": [],
   "source": []
  },
  {
   "cell_type": "code",
   "execution_count": null,
   "metadata": {},
   "outputs": [],
   "source": []
  },
  {
   "cell_type": "code",
   "execution_count": null,
   "metadata": {},
   "outputs": [],
   "source": []
  },
  {
   "cell_type": "code",
   "execution_count": null,
   "metadata": {},
   "outputs": [],
   "source": []
  },
  {
   "cell_type": "code",
   "execution_count": null,
   "metadata": {},
   "outputs": [],
   "source": []
  },
  {
   "cell_type": "code",
   "execution_count": null,
   "metadata": {},
   "outputs": [],
   "source": []
  },
  {
   "cell_type": "code",
   "execution_count": null,
   "metadata": {},
   "outputs": [],
   "source": []
  },
  {
   "cell_type": "code",
   "execution_count": null,
   "metadata": {},
   "outputs": [],
   "source": []
  },
  {
   "cell_type": "code",
   "execution_count": null,
   "metadata": {},
   "outputs": [],
   "source": []
  },
  {
   "cell_type": "code",
   "execution_count": null,
   "metadata": {},
   "outputs": [],
   "source": []
  }
 ],
 "metadata": {
  "kernelspec": {
   "display_name": "Python 3",
   "language": "python",
   "name": "python3"
  },
  "language_info": {
   "codemirror_mode": {
    "name": "ipython",
    "version": 3
   },
   "file_extension": ".py",
   "mimetype": "text/x-python",
   "name": "python",
   "nbconvert_exporter": "python",
   "pygments_lexer": "ipython3",
   "version": "3.8.5"
  }
 },
 "nbformat": 4,
 "nbformat_minor": 4
}
